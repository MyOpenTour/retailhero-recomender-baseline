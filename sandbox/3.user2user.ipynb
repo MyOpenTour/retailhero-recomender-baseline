{
 "cells": [
  {
   "cell_type": "code",
   "execution_count": null,
   "metadata": {},
   "outputs": [],
   "source": [
    "import pandas as pd\n",
    "import numpy as np\n",
    "import json\n",
    "from scipy import sparse as sp\n",
    "from tqdm.notebook import tqdm\n",
    "from collections import defaultdict"
   ]
  },
  {
   "cell_type": "code",
   "execution_count": null,
   "metadata": {},
   "outputs": [],
   "source": [
    "import sys\n",
    "sys.path.append('../')\n",
    "\n",
    "from src.utils import get_shard_path, ProductEncoder, make_coo_row\n",
    "from src.metrics import normalized_average_precision"
   ]
  },
  {
   "cell_type": "code",
   "execution_count": null,
   "metadata": {},
   "outputs": [],
   "source": [
    "product_encoder = ProductEncoder('../data/raw/products.csv')"
   ]
  },
  {
   "cell_type": "code",
   "execution_count": null,
   "metadata": {},
   "outputs": [],
   "source": [
    "rows = []\n",
    "for shard_id in range(4):\n",
    "    for js in tqdm(json.loads(l) for l in open(get_shard_path(shard_id))):\n",
    "        rows.append(make_coo_row(js[\"transaction_history\"], product_encoder))"
   ]
  },
  {
   "cell_type": "code",
   "execution_count": null,
   "metadata": {},
   "outputs": [],
   "source": [
    "X_sparse = sp.vstack(rows)"
   ]
  },
  {
   "cell_type": "code",
   "execution_count": null,
   "metadata": {},
   "outputs": [],
   "source": [
    "X_sparse.shape"
   ]
  },
  {
   "cell_type": "code",
   "execution_count": null,
   "metadata": {},
   "outputs": [],
   "source": [
    "X_stored = X_sparse.tocsr()"
   ]
  },
  {
   "cell_type": "code",
   "execution_count": null,
   "metadata": {},
   "outputs": [],
   "source": [
    "from sklearn.decomposition import TruncatedSVD"
   ]
  },
  {
   "cell_type": "code",
   "execution_count": null,
   "metadata": {},
   "outputs": [],
   "source": [
    "svd = TruncatedSVD(n_components=128)\n",
    "X_dense = svd.fit_transform(X_sparse)"
   ]
  },
  {
   "cell_type": "code",
   "execution_count": null,
   "metadata": {},
   "outputs": [],
   "source": [
    "from sklearn.neighbors import NearestNeighbors"
   ]
  },
  {
   "cell_type": "code",
   "execution_count": null,
   "metadata": {},
   "outputs": [],
   "source": [
    "num_neighbours = 256\n",
    "knn = NearestNeighbors(n_neighbors=num_neighbours, metric=\"cosine\")\n",
    "knn.fit(X_dense)"
   ]
  },
  {
   "cell_type": "code",
   "execution_count": null,
   "metadata": {},
   "outputs": [],
   "source": [
    "m_ap = []\n",
    "for js in tqdm(json.loads(l) for l in open(get_shard_path(7))):\n",
    "    # just to save time\n",
    "    if len(m_ap) > 3000:\n",
    "        break\n",
    "    \n",
    "    row_sparse = make_coo_row(js[\"transaction_history\"], product_encoder)\n",
    "    row_dense = svd.transform(row_sparse)\n",
    "    knn_result = knn.kneighbors(row_dense, n_neighbors=num_neighbours)\n",
    "    neighbors = knn_result[1]\n",
    "    scores = np.asarray(X_stored[neighbors[0]].sum(axis=0)[0]).flatten()\n",
    "    top_indices = np.argsort(-scores)\n",
    "    recommended_items = product_encoder.toPid(top_indices[:30])\n",
    "    gt_items = js[\"target\"][0][\"product_ids\"]\n",
    "    m_ap.append(normalized_average_precision(gt_items, recommended_items, k=30))\n",
    "print(np.mean(m_ap))"
   ]
  },
  {
   "cell_type": "code",
   "execution_count": null,
   "metadata": {},
   "outputs": [],
   "source": [
    "! mkdir -p ../tmp/u2u"
   ]
  },
  {
   "cell_type": "code",
   "execution_count": null,
   "metadata": {},
   "outputs": [],
   "source": [
    "import pickle\n",
    "pickle.dump(X_stored, open('../tmp/u2u/X_stored.pkl', \"wb\"))\n",
    "pickle.dump(svd, open('../tmp/u2u/svd.pkl', \"wb\"))\n",
    "pickle.dump(knn, open('../tmp/u2u/knn.pkl', \"wb\"))"
   ]
  },
  {
   "cell_type": "code",
   "execution_count": null,
   "metadata": {},
   "outputs": [],
   "source": [
    "! ls -lah ../tmp/u2u"
   ]
  },
  {
   "cell_type": "markdown",
   "metadata": {},
   "source": [
    "# FAISS\n",
    "[Вики faiss](https://github.com/facebookresearch/faiss/wiki)"
   ]
  },
  {
   "cell_type": "code",
   "execution_count": null,
   "metadata": {},
   "outputs": [],
   "source": [
    "import faiss"
   ]
  },
  {
   "cell_type": "code",
   "execution_count": null,
   "metadata": {},
   "outputs": [],
   "source": [
    "index = faiss.index_factory(128, \"IVF256,PQ32\", faiss.METRIC_INNER_PRODUCT)\n",
    "index.train(X_dense)\n",
    "index.add(X_dense)"
   ]
  },
  {
   "cell_type": "markdown",
   "metadata": {},
   "source": [
    "[Индексы в faiss](https://github.com/facebookresearch/faiss/wiki/Faiss-indexes)"
   ]
  },
  {
   "cell_type": "code",
   "execution_count": null,
   "metadata": {},
   "outputs": [],
   "source": [
    "# сделать аналогичную проверку качества"
   ]
  },
  {
   "cell_type": "code",
   "execution_count": null,
   "metadata": {},
   "outputs": [],
   "source": [
    "# ???"
   ]
  },
  {
   "cell_type": "code",
   "execution_count": null,
   "metadata": {},
   "outputs": [],
   "source": [
    "faiss.write_index(index, '../tmp/u2u/faiss.idx')"
   ]
  },
  {
   "cell_type": "code",
   "execution_count": null,
   "metadata": {},
   "outputs": [],
   "source": [
    "! ls -lah ../tmp/u2u"
   ]
  }
 ],
 "metadata": {
  "kernelspec": {
   "display_name": "Python 3",
   "language": "python",
   "name": "python3"
  },
  "language_info": {
   "codemirror_mode": {
    "name": "ipython",
    "version": 3
   },
   "file_extension": ".py",
   "mimetype": "text/x-python",
   "name": "python",
   "nbconvert_exporter": "python",
   "pygments_lexer": "ipython3",
   "version": "3.7.5"
  }
 },
 "nbformat": 4,
 "nbformat_minor": 2
}
